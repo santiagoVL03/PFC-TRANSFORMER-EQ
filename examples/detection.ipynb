{
 "cells": [
  {
   "cell_type": "markdown",
   "metadata": {},
   "source": [
    "# (II) Deteccion y Picking\n",
    "Este cuaderno demuestra el uso de EQTransformer para realizar la detección de señales sísmicas y la selección de fases sísmicas (P y S) en datos continuos. Una vez que tengas tus datos sísmicos —preferentemente en formato MiniSeed y organizados en subcarpetas individuales para cada estación— puedes realizar la detección y selección usando las siguientes opciones:"
   ]
  },
  {
   "cell_type": "markdown",
   "metadata": {},
   "source": [
    "### Opción (I) con archivos preprocesados (hdf5):"
   ]
  },
  {
   "cell_type": "markdown",
   "metadata": {},
   "source": [
    "Esta opción es recomendada para períodos cortos de tiempo (desde algunos días hasta un mes). Permite probar el desempeño y explorar los efectos de diferentes parámetros, mientras que el archivo hdf5 facilita el acceso a las formas de onda.\n",
    "\n",
    "Para esta opción primero necesitas convertir tus archivos MiniSeed de cada estación en un único archivo hdf5 y un archivo csv que contenga la lista de trazas dentro del archivo hdf5.\n",
    "\n",
    "Puedes convertir los archivos MiniSeed a un archivo hdf5 usando el siguiente comando:"
   ]
  },
  {
   "cell_type": "code",
   "execution_count": 1,
   "metadata": {},
   "outputs": [
    {
     "name": "stdout",
     "output_type": "stream",
     "text": [
      "============ Station SV08 has 2 chunks of data.\n",
      "============ Station CA06 has 2 chunks of data.\n",
      "  * CA06 (1) .. 20190901 --> 20190902 .. 3 components .. sampling rate: 100.0\n",
      "  * SV08 (1) .. 20190901 --> 20190902 .. 3 components .. sampling rate: 100.0\n",
      "  * CA06 (2) .. 20190902 --> 20190903 .. 3 components .. sampling rate: 100.0\n",
      "  * SV08 (2) .. 20190902 --> 20190903 .. 3 components .. sampling rate: 100.0\n",
      " Station CA06 had 2 chuncks of data\n",
      "4112 slices were written, 4114.0 were expected.\n",
      "Number of 1-components: 0. Number of 2-components: 0. Number of 3-components: 2.\n",
      "Original samplieng rate: 100.0.\n",
      "============ Station B921 has 2 chunks of data.\n",
      "  * B921 (1) .. 20190901 --> 20190902 .. 3 components .. sampling rate: 100.0\n",
      " Station SV08 had 2 chuncks of data\n",
      "4112 slices were written, 4114.0 were expected.\n",
      "Number of 1-components: 0. Number of 2-components: 0. Number of 3-components: 2.\n",
      "Original samplieng rate: 100.0.\n",
      "  * B921 (2) .. 20190902 --> 20190903 .. 3 components .. sampling rate: 100.0\n",
      " Station B921 had 2 chuncks of data\n",
      "4112 slices were written, 4114.0 were expected.\n",
      "Number of 1-components: 0. Number of 2-components: 0. Number of 3-components: 2.\n",
      "Original samplieng rate: 100.0.\n"
     ]
    }
   ],
   "source": [
    "import os\n",
    "from EQTransformer.utils.hdf5_maker import preprocessor\n",
    "\n",
    "json_basepath = os.path.join(os.getcwd(),\"json/station_list.json\")\n",
    "\n",
    "preprocessor(preproc_dir=\"preproc\",\n",
    "             mseed_dir='downloads_mseeds', \n",
    "             stations_json=json_basepath, \n",
    "             overlap=0.3, \n",
    "             n_processor=2)"
   ]
  },
  {
   "cell_type": "markdown",
   "metadata": {},
   "source": [
    "Esto generará un archivo \"nombre_estación.hdf5\" y un archivo \"nombre_estación.csv\" para cada estación, y los colocará en un directorio llamado \"mseed_dir+_hdfs\". Luego debes pasar el nombre del directorio que contiene tus archivos hdf5 y csv junto con un modelo. Puedes usar valores de umbral relativamente bajos para la detección y selección, ya que EQTransformer es muy robusto frente a falsos positivos. Activar la estimación de incertidumbre, producir probabilidades o graficar todos los eventos detectados ralentizará el proceso."
   ]
  },
  {
   "cell_type": "code",
   "execution_count": 2,
   "metadata": {},
   "outputs": [
    {
     "name": "stdout",
     "output_type": "stream",
     "text": [
      "============================================================================\n",
      "Running EqTransformer  0.1.58\n",
      " *** Loading the model ...\n",
      "*** Loading is complete!\n",
      "######### There are files for 3 stations in downloads_mseeds_processed_hdfs directory. #########\n",
      "========= Started working on B921, 1 out of 3 ...\n",
      "  0%|                                                                         | 0/9 [00:00<?, ?it/s]WARNING:tensorflow:multiprocessing can interact badly with TensorFlow, causing nondeterministic deadlocks. For high performance data pipelines tf.data is recommended.\n",
      "WARNING:tensorflow:multiprocessing can interact badly with TensorFlow, causing nondeterministic deadlocks. For high performance data pipelines tf.data is recommended.\n",
      " 22%|██████████████▍                                                  | 2/9 [00:22<01:17, 11.05s/it]WARNING:tensorflow:multiprocessing can interact badly with TensorFlow, causing nondeterministic deadlocks. For high performance data pipelines tf.data is recommended.\n",
      "WARNING:tensorflow:multiprocessing can interact badly with TensorFlow, causing nondeterministic deadlocks. For high performance data pipelines tf.data is recommended.\n",
      " 33%|█████████████████████▋                                           | 3/9 [00:29<00:57,  9.57s/it]WARNING:tensorflow:multiprocessing can interact badly with TensorFlow, causing nondeterministic deadlocks. For high performance data pipelines tf.data is recommended.\n",
      "WARNING:tensorflow:multiprocessing can interact badly with TensorFlow, causing nondeterministic deadlocks. For high performance data pipelines tf.data is recommended.\n",
      " 44%|████████████████████████████▉                                    | 4/9 [00:37<00:44,  8.99s/it]WARNING:tensorflow:multiprocessing can interact badly with TensorFlow, causing nondeterministic deadlocks. For high performance data pipelines tf.data is recommended.\n",
      "WARNING:tensorflow:multiprocessing can interact badly with TensorFlow, causing nondeterministic deadlocks. For high performance data pipelines tf.data is recommended.\n",
      " 56%|████████████████████████████████████                             | 5/9 [00:46<00:35,  8.86s/it]WARNING:tensorflow:multiprocessing can interact badly with TensorFlow, causing nondeterministic deadlocks. For high performance data pipelines tf.data is recommended.\n",
      "WARNING:tensorflow:multiprocessing can interact badly with TensorFlow, causing nondeterministic deadlocks. For high performance data pipelines tf.data is recommended.\n",
      " 67%|███████████████████████████████████████████▎                     | 6/9 [00:54<00:26,  8.68s/it]WARNING:tensorflow:multiprocessing can interact badly with TensorFlow, causing nondeterministic deadlocks. For high performance data pipelines tf.data is recommended.\n",
      "WARNING:tensorflow:multiprocessing can interact badly with TensorFlow, causing nondeterministic deadlocks. For high performance data pipelines tf.data is recommended.\n",
      " 78%|██████████████████████████████████████████████████▌              | 7/9 [01:02<00:17,  8.55s/it]WARNING:tensorflow:multiprocessing can interact badly with TensorFlow, causing nondeterministic deadlocks. For high performance data pipelines tf.data is recommended.\n",
      "WARNING:tensorflow:multiprocessing can interact badly with TensorFlow, causing nondeterministic deadlocks. For high performance data pipelines tf.data is recommended.\n",
      " 89%|█████████████████████████████████████████████████████████▊       | 8/9 [01:11<00:08,  8.69s/it]WARNING:tensorflow:multiprocessing can interact badly with TensorFlow, causing nondeterministic deadlocks. For high performance data pipelines tf.data is recommended.\n",
      "WARNING:tensorflow:multiprocessing can interact badly with TensorFlow, causing nondeterministic deadlocks. For high performance data pipelines tf.data is recommended.\n",
      "100%|█████████████████████████████████████████████████████████████████| 9/9 [01:21<00:00,  9.01s/it]WARNING:tensorflow:multiprocessing can interact badly with TensorFlow, causing nondeterministic deadlocks. For high performance data pipelines tf.data is recommended.\n",
      "WARNING:tensorflow:multiprocessing can interact badly with TensorFlow, causing nondeterministic deadlocks. For high performance data pipelines tf.data is recommended.\n",
      "\n",
      "\n",
      " *** Finished the prediction in: 0 hours and 1 minutes and 24.73 seconds.\n",
      " *** Detected: 5376 events.\n",
      " *** Wrote the results into --> \" /home/santiago/Coding University/PFC-TRANSFORMER-EQ/examples/detections1/B921_outputs \"\n",
      "========= Started working on CA06, 2 out of 3 ...\n",
      "100%|█████████████████████████████████████████████████████████████████| 9/9 [01:24<00:00,  9.42s/it]\n",
      "WARNING:tensorflow:multiprocessing can interact badly with TensorFlow, causing nondeterministic deadlocks. For high performance data pipelines tf.data is recommended.\n",
      "WARNING:tensorflow:multiprocessing can interact badly with TensorFlow, causing nondeterministic deadlocks. For high performance data pipelines tf.data is recommended.\n",
      "WARNING:tensorflow:multiprocessing can interact badly with TensorFlow, causing nondeterministic deadlocks. For high performance data pipelines tf.data is recommended.\n",
      "WARNING:tensorflow:multiprocessing can interact badly with TensorFlow, causing nondeterministic deadlocks. For high performance data pipelines tf.data is recommended.\n",
      "WARNING:tensorflow:multiprocessing can interact badly with TensorFlow, causing nondeterministic deadlocks. For high performance data pipelines tf.data is recommended.\n",
      "WARNING:tensorflow:multiprocessing can interact badly with TensorFlow, causing nondeterministic deadlocks. For high performance data pipelines tf.data is recommended.\n",
      "WARNING:tensorflow:multiprocessing can interact badly with TensorFlow, causing nondeterministic deadlocks. For high performance data pipelines tf.data is recommended.\n",
      "WARNING:tensorflow:multiprocessing can interact badly with TensorFlow, causing nondeterministic deadlocks. For high performance data pipelines tf.data is recommended.\n",
      "WARNING:tensorflow:multiprocessing can interact badly with TensorFlow, causing nondeterministic deadlocks. For high performance data pipelines tf.data is recommended.\n",
      "WARNING:tensorflow:multiprocessing can interact badly with TensorFlow, causing nondeterministic deadlocks. For high performance data pipelines tf.data is recommended.\n",
      "WARNING:tensorflow:multiprocessing can interact badly with TensorFlow, causing nondeterministic deadlocks. For high performance data pipelines tf.data is recommended.\n",
      "WARNING:tensorflow:multiprocessing can interact badly with TensorFlow, causing nondeterministic deadlocks. For high performance data pipelines tf.data is recommended.\n",
      "WARNING:tensorflow:multiprocessing can interact badly with TensorFlow, causing nondeterministic deadlocks. For high performance data pipelines tf.data is recommended.\n",
      "WARNING:tensorflow:multiprocessing can interact badly with TensorFlow, causing nondeterministic deadlocks. For high performance data pipelines tf.data is recommended.\n",
      "WARNING:tensorflow:multiprocessing can interact badly with TensorFlow, causing nondeterministic deadlocks. For high performance data pipelines tf.data is recommended.\n",
      "WARNING:tensorflow:multiprocessing can interact badly with TensorFlow, causing nondeterministic deadlocks. For high performance data pipelines tf.data is recommended.\n",
      "WARNING:tensorflow:multiprocessing can interact badly with TensorFlow, causing nondeterministic deadlocks. For high performance data pipelines tf.data is recommended.\n",
      "WARNING:tensorflow:multiprocessing can interact badly with TensorFlow, causing nondeterministic deadlocks. For high performance data pipelines tf.data is recommended.\n",
      "\n",
      "\n",
      " *** Finished the prediction in: 0 hours and 1 minutes and 14.89 seconds.\n",
      " *** Detected: 5422 events.\n",
      " *** Wrote the results into --> \" /home/santiago/Coding University/PFC-TRANSFORMER-EQ/examples/detections1/CA06_outputs \"\n",
      "========= Started working on SV08, 3 out of 3 ...\n",
      "100%|█████████████████████████████████████████████████████████████████| 9/9 [01:14<00:00,  8.32s/it]\n",
      "WARNING:tensorflow:multiprocessing can interact badly with TensorFlow, causing nondeterministic deadlocks. For high performance data pipelines tf.data is recommended.\n",
      "WARNING:tensorflow:multiprocessing can interact badly with TensorFlow, causing nondeterministic deadlocks. For high performance data pipelines tf.data is recommended.\n",
      " 22%|██████████████▍                                                  | 2/9 [00:11<00:39,  5.61s/it]WARNING:tensorflow:multiprocessing can interact badly with TensorFlow, causing nondeterministic deadlocks. For high performance data pipelines tf.data is recommended.\n",
      "WARNING:tensorflow:multiprocessing can interact badly with TensorFlow, causing nondeterministic deadlocks. For high performance data pipelines tf.data is recommended.\n",
      " 33%|█████████████████████▋                                           | 3/9 [00:19<00:39,  6.66s/it]WARNING:tensorflow:multiprocessing can interact badly with TensorFlow, causing nondeterministic deadlocks. For high performance data pipelines tf.data is recommended.\n",
      "WARNING:tensorflow:multiprocessing can interact badly with TensorFlow, causing nondeterministic deadlocks. For high performance data pipelines tf.data is recommended.\n",
      " 44%|████████████████████████████▉                                    | 4/9 [00:27<00:35,  7.13s/it]WARNING:tensorflow:multiprocessing can interact badly with TensorFlow, causing nondeterministic deadlocks. For high performance data pipelines tf.data is recommended.\n",
      "WARNING:tensorflow:multiprocessing can interact badly with TensorFlow, causing nondeterministic deadlocks. For high performance data pipelines tf.data is recommended.\n",
      " 56%|████████████████████████████████████                             | 5/9 [00:35<00:30,  7.67s/it]WARNING:tensorflow:multiprocessing can interact badly with TensorFlow, causing nondeterministic deadlocks. For high performance data pipelines tf.data is recommended.\n",
      "WARNING:tensorflow:multiprocessing can interact badly with TensorFlow, causing nondeterministic deadlocks. For high performance data pipelines tf.data is recommended.\n",
      " 67%|███████████████████████████████████████████▎                     | 6/9 [00:44<00:24,  8.08s/it]WARNING:tensorflow:multiprocessing can interact badly with TensorFlow, causing nondeterministic deadlocks. For high performance data pipelines tf.data is recommended.\n",
      "WARNING:tensorflow:multiprocessing can interact badly with TensorFlow, causing nondeterministic deadlocks. For high performance data pipelines tf.data is recommended.\n",
      " 78%|██████████████████████████████████████████████████▌              | 7/9 [00:52<00:16,  8.06s/it]WARNING:tensorflow:multiprocessing can interact badly with TensorFlow, causing nondeterministic deadlocks. For high performance data pipelines tf.data is recommended.\n",
      "WARNING:tensorflow:multiprocessing can interact badly with TensorFlow, causing nondeterministic deadlocks. For high performance data pipelines tf.data is recommended.\n",
      " 89%|█████████████████████████████████████████████████████████▊       | 8/9 [01:01<00:08,  8.22s/it]WARNING:tensorflow:multiprocessing can interact badly with TensorFlow, causing nondeterministic deadlocks. For high performance data pipelines tf.data is recommended.\n",
      "WARNING:tensorflow:multiprocessing can interact badly with TensorFlow, causing nondeterministic deadlocks. For high performance data pipelines tf.data is recommended.\n",
      "100%|█████████████████████████████████████████████████████████████████| 9/9 [01:10<00:00,  8.52s/it]WARNING:tensorflow:multiprocessing can interact badly with TensorFlow, causing nondeterministic deadlocks. For high performance data pipelines tf.data is recommended.\n",
      "WARNING:tensorflow:multiprocessing can interact badly with TensorFlow, causing nondeterministic deadlocks. For high performance data pipelines tf.data is recommended.\n",
      "\n",
      "\n",
      " *** Finished the prediction in: 0 hours and 1 minutes and 13.89 seconds.\n",
      " *** Detected: 4501 events.\n",
      " *** Wrote the results into --> \" /home/santiago/Coding University/PFC-TRANSFORMER-EQ/examples/detections1/SV08_outputs \"\n",
      "100%|█████████████████████████████████████████████████████████████████| 9/9 [01:13<00:00,  8.21s/it]\n"
     ]
    }
   ],
   "source": [
    "from EQTransformer.core.predictor import predictor\n",
    "predictor(input_dir='downloads_mseeds_processed_hdfs',   \n",
    "         input_model='../ModelsAndSampleData/EqT_original_model.h5',\n",
    "         output_dir='detections1',\n",
    "         estimate_uncertainty=False, \n",
    "         output_probabilities=False,\n",
    "         number_of_sampling=5,\n",
    "         loss_weights=[0.02, 0.40, 0.58],          \n",
    "         detection_threshold=0.3,                \n",
    "         P_threshold=0.3,\n",
    "         S_threshold=0.3, \n",
    "         number_of_plots=10,\n",
    "         plot_mode='time',\n",
    "         batch_size=500,\n",
    "         number_of_cpus=4,\n",
    "         keepPS=False,\n",
    "         spLimit=60) "
   ]
  },
  {
   "cell_type": "markdown",
   "metadata": {},
   "source": [
    "Las salidas de la predicción para cada estación se escribirán en tu directorio de salida (por ejemplo, 'detections').\n",
    "\n",
    "El archivo 'X_report.txt' contiene información sobre los parámetros de entrada usados para la detección/selección y los resultados finales, como el tiempo de ejecución y el número total de eventos detectados (estos son eventos únicos, ya que se eliminaron duplicados).\n",
    "\n",
    "El archivo 'X_prediction_results.csv' contiene los resultados de detección/selección, y en la carpeta de figuras encontrarás los gráficos para el número de eventos que especificaste en el comentario anterior."
   ]
  }
 ],
 "metadata": {
  "kernelspec": {
   "display_name": "eqt36",
   "language": "python",
   "name": "python3"
  },
  "language_info": {
   "codemirror_mode": {
    "name": "ipython",
    "version": 3
   },
   "file_extension": ".py",
   "mimetype": "text/x-python",
   "name": "python",
   "nbconvert_exporter": "python",
   "pygments_lexer": "ipython3",
   "version": "3.6.13"
  }
 },
 "nbformat": 4,
 "nbformat_minor": 4
}
