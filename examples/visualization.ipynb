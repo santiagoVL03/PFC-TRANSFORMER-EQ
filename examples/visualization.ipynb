{
 "cells": [
  {
   "cell_type": "markdown",
   "metadata": {},
   "source": [
    "# Visualizacion\n",
    "\n",
    "EQTransformer viene con algunas herramientas de visualización para obtener una mejor comprensión de los datos que se están procesando y de los resultados."
   ]
  },
  {
   "cell_type": "markdown",
   "metadata": {},
   "source": [
    "### 1) Continuidad de los datos sísmicos que se están procesando:"
   ]
  },
  {
   "cell_type": "markdown",
   "metadata": {},
   "source": [
    "Tanto el preprocesador como el mseed_predictor generan un archivo llamado \"time_tracks.pkl\" que contiene la información temporal de los fragmentos de datos y su número de componentes. Puedes usar este archivo para visualizar la continuidad y el tipo de tus datos usando el siguiente módulo:"
   ]
  },
  {
   "cell_type": "code",
   "execution_count": 1,
   "metadata": {},
   "outputs": [],
   "source": [
    "from EQTransformer.utils.plot import plot_data_chart\n",
    "plot_data_chart('preproc/time_tracks.pkl',  time_interval=10)"
   ]
  },
  {
   "cell_type": "markdown",
   "metadata": {},
   "source": [
    "Revisa en tu directorio actual el archivo 'data_chart.png'."
   ]
  },
  {
   "cell_type": "markdown",
   "metadata": {},
   "source": [
    "### 2) Formas de onda continuas:\n",
    "Siempre es buena idea revisar los datos sin procesar (raw data):"
   ]
  },
  {
   "cell_type": "code",
   "execution_count": 2,
   "metadata": {},
   "outputs": [
    {
     "name": "stdout",
     "output_type": "stream",
     "text": [
      "saved the plot as GS.CA06.00.HHZ__20190901T000000Z__20190902T000000Z.png\n"
     ]
    }
   ],
   "source": [
    "from EQTransformer.utils.plot import plot_detections, plot_helicorder\n",
    "plot_helicorder(input_mseed='downloads_mseeds/CA06/GS.CA06.00.HHZ__20190901T000000Z__20190902T000000Z.mseed', \n",
    "                input_csv=None, save_plot=True)"
   ]
  },
  {
   "cell_type": "markdown",
   "metadata": {},
   "source": [
    "Ahora puedes marcar aquellos eventos que hayas detectado en tu gráfico helicorder para verificar si has capturado la mayoría de ellos o si estás perdiendo demasiados (falsos negativos altos). Esto, junto con los gráficos de eventos (en las subcarpetas Figure dentro de tus carpetas station_output), te puede dar una idea si estás usando niveles de umbral demasiado altos o demasiado bajos."
   ]
  },
  {
   "cell_type": "code",
   "execution_count": 3,
   "metadata": {},
   "outputs": [
    {
     "name": "stdout",
     "output_type": "stream",
     "text": [
      "saved the plot as GS.CA06.00.HH2__20190901T000000Z__20190902T000000Z.png\n"
     ]
    }
   ],
   "source": [
    "plot_helicorder(input_mseed='downloads_mseeds/CA06/GS.CA06.00.HH2__20190901T000000Z__20190902T000000Z.mseed', \n",
    "                input_csv='detections1/CA06_outputs/X_prediction_results.csv', save_plot=True)"
   ]
  },
  {
   "cell_type": "markdown",
   "metadata": {},
   "source": [
    "### 3) Gráfico de mapa:\n",
    "También puedes visualizar el número de detecciones en toda tu red usando esto:"
   ]
  },
  {
   "cell_type": "code",
   "execution_count": 4,
   "metadata": {},
   "outputs": [],
   "source": [
    "plot_detections(input_dir =\"detections1\", \n",
    "                input_json=\"json/station_list.json\", \n",
    "                plot_type='station_map', \n",
    "                marker_size=50)"
   ]
  },
  {
   "cell_type": "markdown",
   "metadata": {},
   "source": [
    "Verifique 'station_map.png' cual se encuentra en su ruta actual"
   ]
  },
  {
   "cell_type": "markdown",
   "metadata": {},
   "source": [
    "### 4) Histogramas:\n",
    "Y este comando generará automáticamente histogramas de detecciones para cada estación en tu carpeta de detecciones:"
   ]
  },
  {
   "cell_type": "code",
   "execution_count": 5,
   "metadata": {},
   "outputs": [],
   "source": [
    "plot_detections(input_dir =\"detections1\",  \n",
    "                input_json=\"json/station_list.json\", \n",
    "                plot_type='hist', \n",
    "                time_window=120)"
   ]
  },
  {
   "cell_type": "markdown",
   "metadata": {},
   "source": [
    "Verifique 'stationName_outputs.png' el cual se encontrara en su ruta principal"
   ]
  }
 ],
 "metadata": {
  "kernelspec": {
   "display_name": "eqt36",
   "language": "python",
   "name": "python3"
  },
  "language_info": {
   "codemirror_mode": {
    "name": "ipython",
    "version": 3
   },
   "file_extension": ".py",
   "mimetype": "text/x-python",
   "name": "python",
   "nbconvert_exporter": "python",
   "pygments_lexer": "ipython3",
   "version": "3.6.13"
  }
 },
 "nbformat": 4,
 "nbformat_minor": 2
}
